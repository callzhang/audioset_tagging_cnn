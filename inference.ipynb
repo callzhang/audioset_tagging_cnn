{
 "cells": [
  {
   "cell_type": "code",
   "execution_count": 5,
   "metadata": {},
   "outputs": [
    {
     "name": "stderr",
     "output_type": "stream",
     "text": [
      "/home/stardust/miniconda3/lib/python3.8/site-packages/librosa/util/decorators.py:88: UserWarning: PySoundFile failed. Trying audioread instead.\n",
      "  return f(*args, **kwargs)\n"
     ]
    },
    {
     "name": "stdout",
     "output_type": "stream",
     "text": [
      "------ Audio tagging ------\n",
      "------ Sound event detection ------\n",
      "Checkpoint path: Cnn14_DecisionLevelMax_mAP=0.385.pth\n"
     ]
    },
    {
     "name": "stderr",
     "output_type": "stream",
     "text": [
      "/home/stardust/miniconda3/lib/python3.8/site-packages/torchlibrosa/stft.py:193: FutureWarning: Pass size=1024 as keyword args. From version 0.10 passing these as positional arguments will result in an error\n",
      "  fft_window = librosa.util.pad_center(fft_window, n_fft)\n"
     ]
    },
    {
     "name": "stdout",
     "output_type": "stream",
     "text": [
      "Using CPU.\n",
      "Done\n"
     ]
    }
   ],
   "source": [
    "import librosa\n",
    "import panns_inference\n",
    "from panns_inference import AudioTagging, SoundEventDetection, labels\n",
    "\n",
    "audio_path = 'sample/脉冲/035ab2a6-37f8-4556-baee-d3c37522031f.m4a'\n",
    "(audio, _) = librosa.core.load(audio_path, sr=32000, mono=True)\n",
    "audio = audio[None, :]  # (batch_size, segment_samples)\n",
    "\n",
    "print('------ Audio tagging ------')\n",
    "# at = AudioTagging(checkpoint_path='Cnn14_mAP=0.431.pth', device='cuda:1')\n",
    "# (clipwise_output, embedding) = at.inference(audio)\n",
    "\n",
    "print('------ Sound event detection ------')\n",
    "sed = SoundEventDetection(checkpoint_path='Cnn14_DecisionLevelMax_mAP=0.385.pth', device='cpu')\n",
    "framewise_output = sed.inference(audio)\n",
    "print('Done')"
   ]
  },
  {
   "cell_type": "code",
   "execution_count": 6,
   "metadata": {},
   "outputs": [
    {
     "name": "stderr",
     "output_type": "stream",
     "text": [
      "/home/stardust/miniconda3/lib/python3.8/site-packages/librosa/util/decorators.py:88: UserWarning: PySoundFile failed. Trying audioread instead.\n",
      "  return f(*args, **kwargs)\n",
      "/home/stardust/miniconda3/lib/python3.8/site-packages/librosa/util/decorators.py:88: UserWarning: PySoundFile failed. Trying audioread instead.\n",
      "  return f(*args, **kwargs)\n",
      "/home/stardust/miniconda3/lib/python3.8/site-packages/librosa/util/decorators.py:88: UserWarning: PySoundFile failed. Trying audioread instead.\n",
      "  return f(*args, **kwargs)\n",
      "/home/stardust/miniconda3/lib/python3.8/site-packages/librosa/util/decorators.py:88: UserWarning: PySoundFile failed. Trying audioread instead.\n",
      "  return f(*args, **kwargs)\n",
      "/home/stardust/miniconda3/lib/python3.8/site-packages/librosa/util/decorators.py:88: UserWarning: PySoundFile failed. Trying audioread instead.\n",
      "  return f(*args, **kwargs)\n",
      "/home/stardust/miniconda3/lib/python3.8/site-packages/librosa/util/decorators.py:88: UserWarning: PySoundFile failed. Trying audioread instead.\n",
      "  return f(*args, **kwargs)\n"
     ]
    }
   ],
   "source": [
    "from glob import glob\n",
    "files = glob('sample/*/*.m4a') + glob('sample/*/*.mp3')\n",
    "for file in files:\n",
    "    (audio, _) = librosa.core.load(file, sr=32000, mono=True)\n",
    "    audio = audio[None, :]\n",
    "    framewise_output = sed.inference(audio)\n"
   ]
  },
  {
   "cell_type": "code",
   "execution_count": 16,
   "metadata": {},
   "outputs": [
    {
     "data": {
      "text/plain": [
       "array([ 0.0000000e+00,  0.0000000e+00,  0.0000000e+00, ...,\n",
       "       -3.2425846e-09,  2.9202274e-09,  0.0000000e+00], dtype=float32)"
      ]
     },
     "execution_count": 16,
     "metadata": {},
     "output_type": "execute_result"
    }
   ],
   "source": [
    "audio"
   ]
  }
 ],
 "metadata": {
  "interpreter": {
   "hash": "1e89e1c30ea82ca237469ac9da7e84ec8968b083812dfa0e6377659442e59fd1"
  },
  "kernelspec": {
   "display_name": "Python 3.8.12 ('base')",
   "language": "python",
   "name": "python3"
  },
  "language_info": {
   "codemirror_mode": {
    "name": "ipython",
    "version": 3
   },
   "file_extension": ".py",
   "mimetype": "text/x-python",
   "name": "python",
   "nbconvert_exporter": "python",
   "pygments_lexer": "ipython3",
   "version": "3.8.12"
  },
  "orig_nbformat": 4
 },
 "nbformat": 4,
 "nbformat_minor": 2
}
